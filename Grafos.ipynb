{
  "cells": [
    {
      "cell_type": "markdown",
      "metadata": {
        "id": "Y50UzNdMP_Vp"
      },
      "source": [
        "# Análisis de centralidad: Redes metabólicas\n",
        "## Teoría de grafos - Universidad del Rosario\n",
        "### Luceth Caterine Argote Radillo<br>Samuel Fernando De Dios Pérez<br>Lukas Morera Torres<br>Escuela de Ingeniería, Ciencia y Tecnología"
      ]
    },
    {
      "cell_type": "markdown",
      "metadata": {
        "id": "fR48KEq17WRa"
      },
      "source": [
        "# **Lectura de datos.**"
      ]
    },
    {
      "cell_type": "code",
      "execution_count": 11,
      "metadata": {
        "id": "K-lrCbO64xjc"
      },
      "outputs": [],
      "source": [
        "import networkx as nx\n",
        "import matplotlib.pyplot as plt\n",
        "import csv"
      ]
    },
    {
      "cell_type": "code",
      "execution_count": null,
      "metadata": {
        "colab": {
          "base_uri": "https://localhost:8080/",
          "height": 228
        },
        "id": "E7_syGQ57Vfc",
        "outputId": "a393a4e9-2bc0-4294-fb37-301cead3e7ee"
      },
      "outputs": [],
      "source": [
        "#LISTAS DE NODOS\n",
        "metabolitos = []\n",
        "reacciones  = []\n",
        "\n",
        "\n",
        "\n",
        "#leer los metabolitos\n",
        "with open('Datos/metabolitos.csv', newline='') as csvfile:\n",
        "    spamreader = csv.reader(csvfile, delimiter=' ', quotechar='|')\n",
        "    for row in spamreader:\n",
        "        metabolitos.append(row[0].split(sep=\";\"))\n",
        "\n",
        "\n",
        "#leer las reacciones\n",
        "with open('Datos/reactivos.csv', newline='') as csvfile:\n",
        "    spamreader = csv.reader(csvfile, delimiter='$', quotechar='|')\n",
        "    for row in spamreader:\n",
        "        row[0] = row[0].replace(';;', ';0;').replace(';;', ';0;')\n",
        "        reacciones.append(row[0].split(sep=\";\"))\n",
        "\n",
        "metabolitos_copy = metabolitos.copy()\n",
        "reacciones_copy  = reacciones.copy()"
      ]
    },
    {
      "cell_type": "markdown",
      "metadata": {
        "id": "MqaiEk3c7ND7"
      },
      "source": [
        "# **Funciones.**"
      ]
    },
    {
      "cell_type": "code",
      "execution_count": 13,
      "metadata": {
        "id": "VsfWYoO07KQT"
      },
      "outputs": [],
      "source": [
        "def find_in_list(target, py_list):\n",
        "  #busca el indice de un elemento\n",
        "  for i in range(len(py_list)):\n",
        "    if py_list[i] == target:\n",
        "      return i\n",
        "\n",
        "def simplificar_reacciones(lista, l):\n",
        "    new_list = [['id_r', 'name', 'reactivos', 'productos', 'lower_bound', 'upper_bound']]\n",
        "\n",
        "    for i in range(1,len(lista)):\n",
        "        row = lista[i]\n",
        "        new_list.append([row[0], row[1],[],[],row[-2], row[-1]])\n",
        "        for j in range(2,1670):\n",
        "            dato = float(row[j])\n",
        "            if dato <= -1:\n",
        "                new_list[i][2].append(l[j])\n",
        "            elif dato >= 1:\n",
        "                new_list[i][3].append(l[j])\n",
        "    return new_list"
      ]
    },
    {
      "cell_type": "markdown",
      "metadata": {
        "id": "nnlCvazP9iY7"
      },
      "source": [
        "# **Crear grafo.**"
      ]
    },
    {
      "cell_type": "code",
      "execution_count": null,
      "metadata": {},
      "outputs": [
        {
          "data": {
            "text/plain": [
              "True"
            ]
          },
          "execution_count": 24,
          "metadata": {},
          "output_type": "execute_result"
        }
      ],
      "source": [
        "metabolitos = metabolitos_copy.copy()\n",
        "reacciones  = reacciones_copy.copy()\n",
        "reacciones  = simplificar_reacciones(reacciones[0:],reacciones[0])\n",
        "\n",
        "metabolitos[0][0] = 'id_m'\n",
        "metabolitos = metabolitos[0:]\n",
        "reacciones  = reacciones[0:]"
      ]
    },
    {
      "cell_type": "code",
      "execution_count": 18,
      "metadata": {},
      "outputs": [],
      "source": [
        "G = nx.DiGraph()"
      ]
    },
    {
      "cell_type": "markdown",
      "metadata": {},
      "source": [
        "## Crear nodos metabolitos."
      ]
    },
    {
      "cell_type": "code",
      "execution_count": null,
      "metadata": {},
      "outputs": [],
      "source": [
        "nodos_metabolitos = []\n",
        "for i in metabolitos:\n",
        "  nodos_metabolitos.append(i[0])\n",
        "\n",
        "G.add_nodes_from(nodos_metabolitos, bipartite=0)"
      ]
    },
    {
      "cell_type": "markdown",
      "metadata": {},
      "source": [
        "## Crear nodos reacciones."
      ]
    },
    {
      "cell_type": "code",
      "execution_count": 20,
      "metadata": {},
      "outputs": [],
      "source": [
        "nodos_reacciones=[]\n",
        "for i in reacciones:\n",
        "  nodos_reacciones.append(i[0])\n",
        "\n",
        "G.add_nodes_from(nodos_reacciones, bipartite=1)"
      ]
    },
    {
      "cell_type": "markdown",
      "metadata": {},
      "source": [
        "## Crear aristas dirigidas."
      ]
    },
    {
      "cell_type": "code",
      "execution_count": 21,
      "metadata": {},
      "outputs": [],
      "source": [
        "for i in range(len(reacciones)):\n",
        "    for j in range(len(reacciones[i][2])):\n",
        "        G.add_edge(reacciones[i][2][j], reacciones[i][0])\n",
        "        nodos_metabolitos.append(reacciones[i][2][j])\n",
        "\n",
        "    for j in range(len(reacciones[i][3])):\n",
        "        G.add_edge(reacciones[i][0], reacciones[i][3][j])\n",
        "        nodos_metabolitos.append(reacciones[i][3][j])\n",
        "\n",
        "nodos_metabolitos=list(set(nodos_metabolitos))\n",
        "\n",
        "for i in list(G.nodes()):\n",
        "  if not(i in nodos_metabolitos or i in nodos_reacciones):\n",
        "    print(f\"Se elimino {i}\")\n",
        "    G.remove_node(i)"
      ]
    },
    {
      "cell_type": "code",
      "execution_count": 22,
      "metadata": {
        "colab": {
          "base_uri": "https://localhost:8080/"
        },
        "id": "33bGxjDPWLMy",
        "outputId": "cd185009-39e3-4e62-d992-4587a846c12c"
      },
      "outputs": [
        {
          "name": "stdout",
          "output_type": "stream",
          "text": [
            "1\n"
          ]
        }
      ],
      "source": [
        "print(nx.number_weakly_connected_components(G))"
      ]
    }
  ],
  "metadata": {
    "colab": {
      "provenance": []
    },
    "kernelspec": {
      "display_name": "base",
      "language": "python",
      "name": "python3"
    },
    "language_info": {
      "codemirror_mode": {
        "name": "ipython",
        "version": 3
      },
      "file_extension": ".py",
      "mimetype": "text/x-python",
      "name": "python",
      "nbconvert_exporter": "python",
      "pygments_lexer": "ipython3",
      "version": "3.9.7"
    }
  },
  "nbformat": 4,
  "nbformat_minor": 0
}
